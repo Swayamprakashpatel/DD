{
  "cells": [
    {
      "cell_type": "markdown",
      "metadata": {
        "id": "view-in-github",
        "colab_type": "text"
      },
      "source": [
        "<a href=\"https://colab.research.google.com/github/Swayamprakashpatel/DD/blob/main/DD.ipynb\" target=\"_parent\"><img src=\"https://colab.research.google.com/assets/colab-badge.svg\" alt=\"Open In Colab\"/></a>"
      ]
    },
    {
      "cell_type": "code",
      "execution_count": 1,
      "metadata": {
        "id": "HZfJ5R777GJh"
      },
      "outputs": [],
      "source": [
        "import numpy as np\n",
        "import pandas as pd\n",
        "import tensorflow as tf\n",
        "from tensorflow.keras.preprocessing.sequence import pad_sequences\n",
        "from tensorflow.keras.layers import Conv1D, MaxPooling1D, Flatten, Dense, Dropout\n",
        "from tensorflow.keras.models import Sequential\n"
      ]
    },
    {
      "cell_type": "code",
      "execution_count": 2,
      "metadata": {
        "id": "8uCVv0FMVp4j"
      },
      "outputs": [],
      "source": [
        "def one_hot_encoding(protein_seq):\n",
        "    amino_acids = 'ACDEFGHIJKLMNOPQRSTUVWXYZ'\n",
        "    aa_dict = {amino_acids[i]: i for i in range(len(amino_acids))}\n",
        "    num_aa = len(aa_dict)\n",
        "\n",
        "    max_seq_len = max(len(seq) for seq in protein_seq)\n",
        "    one_hot = np.zeros((len(protein_seq), max_seq_len, num_aa))\n",
        "\n",
        "    for i, seq in enumerate(protein_seq):\n",
        "        for j, aa in enumerate(seq):\n",
        "            one_hot[i, j, aa_dict[aa]] = 1\n",
        "\n",
        "    return one_hot\n",
        "#3D array of one-hot encoding\n",
        "#len(prtein_seq) = number of sequences in data\n",
        "#max_seq_len = maximum length of sequence\n",
        "#num_aa = actual one-hot or number of aminoacid"
      ]
    },
    {
      "cell_type": "code",
      "execution_count": 3,
      "metadata": {
        "id": "h25W00z57UwN"
      },
      "outputs": [],
      "source": [
        "# load protein sequence data\n",
        "protein_data = pd.read_excel(\"/content/DATASET_Final.xlsx\") #Data in excel/csv. two columns \"sequence\" and \"Fingerprint of 881 bit binary\" \n",
        "protein_data.dropna(inplace=True)\n",
        "# convert protein sequences to one-hot encoding\n",
        "protein_seqs = protein_data[\"Sequence\"].tolist()\n",
        "one_hot = one_hot_encoding(protein_seqs)\n",
        "\n",
        "# pad sequences to same length\n",
        "padded_seqs = pad_sequences(one_hot, padding='post', maxlen=1000) #set maxlen value as per the longest lenght of protein sequence in your data\n",
        "\n",
        "Fingerprint = protein_data.iloc[:,7:888]"
      ]
    },
    {
      "cell_type": "code",
      "execution_count": 6,
      "metadata": {
        "id": "qpI8m8AWI2kB"
      },
      "outputs": [],
      "source": [
        "# define CNN model\n",
        "model = Sequential()\n",
        "model.add(Conv1D(filters=32, kernel_size=3, activation='relu', input_shape=(1000, 25)))\n",
        "model.add(MaxPooling1D(pool_size=2))\n",
        "model.add(Conv1D(filters=64, kernel_size=3, activation='relu'))\n",
        "model.add(MaxPooling1D(pool_size=2))\n",
        "model.add(Conv1D(filters=128, kernel_size=3, activation='relu'))\n",
        "model.add(MaxPooling1D(pool_size=2))\n",
        "model.add(Flatten())\n",
        "model.add(Dense(units=128, activation='relu'))\n",
        "model.add(Dropout(0.2))\n",
        "model.add(Dense(units=881, activation='sigmoid'))\n",
        "\n",
        "# compile the model\n",
        "model.compile(optimizer='adam', loss='binary_crossentropy', metrics=['accuracy'])\n"
      ]
    },
    {
      "cell_type": "code",
      "execution_count": null,
      "metadata": {
        "id": "TgFFXXkqJ4_5"
      },
      "outputs": [],
      "source": [
        "# train the model\n",
        "model.fit(padded_seqs, Fingerprint, epochs=10, batch_size=64, validation_split=0.2)\n"
      ]
    }
  ],
  "metadata": {
    "colab": {
      "provenance": [],
      "authorship_tag": "ABX9TyO4rj32HEYrhwaWJloOcudu",
      "include_colab_link": true
    },
    "kernelspec": {
      "display_name": "Python 3",
      "name": "python3"
    },
    "language_info": {
      "name": "python"
    }
  },
  "nbformat": 4,
  "nbformat_minor": 0
}