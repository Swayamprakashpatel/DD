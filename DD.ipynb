{
  "cells": [
    {
      "cell_type": "markdown",
      "metadata": {
        "id": "view-in-github",
        "colab_type": "text"
      },
      "source": [
        "<a href=\"https://colab.research.google.com/github/Swayamprakashpatel/DD/blob/main/DD.ipynb\" target=\"_parent\"><img src=\"https://colab.research.google.com/assets/colab-badge.svg\" alt=\"Open In Colab\"/></a>"
      ]
    },
    {
      "cell_type": "code",
      "execution_count": null,
      "metadata": {
        "id": "HZfJ5R777GJh"
      },
      "outputs": [],
      "source": [
        "import numpy as np\n",
        "import pandas as pd\n",
        "import tensorflow as tf\n",
        "from tensorflow.keras.preprocessing.sequence import pad_sequences\n",
        "from tensorflow.keras.layers import Conv1D, MaxPooling1D, Flatten, Dense, Dropout\n",
        "from tensorflow.keras.models import Sequential\n"
      ]
    },
    {
      "cell_type": "code",
      "execution_count": null,
      "metadata": {
        "id": "8uCVv0FMVp4j"
      },
      "outputs": [],
      "source": [
        "def one_hot_encoding(protein_seq):\n",
        "    amino_acids = 'ACDEFGHIJKLMNOPQRSTUVWXYZ'\n",
        "    aa_dict = {amino_acids[i]: i for i in range(len(amino_acids))}\n",
        "    num_aa = len(aa_dict)\n",
        "\n",
        "    max_seq_len = max(len(seq) for seq in protein_seq)\n",
        "    one_hot = np.zeros((len(protein_seq), max_seq_len, num_aa))\n",
        "\n",
        "    for i, seq in enumerate(protein_seq):\n",
        "        for j, aa in enumerate(seq):\n",
        "            one_hot[i, j, aa_dict[aa]] = 1\n",
        "\n",
        "    return one_hot\n",
        "#3D array of one-hot encoding\n",
        "#len(prtein_seq) = number of sequences in data\n",
        "#max_seq_len = maximum length of sequence\n",
        "#num_aa = actual one-hot or number of aminoacid"
      ]
    },
    {
      "cell_type": "code",
      "execution_count": null,
      "metadata": {
        "id": "h25W00z57UwN"
      },
      "outputs": [],
      "source": [
        "# load protein sequence data\n",
        "protein_data = pd.read_excel(\"/content/DATASET_Final.xlsx\") #Data in excel/csv. two columns \"sequence\" and \"Fingerprint of 881 bit binary\" \n",
        "protein_data.dropna(inplace=True)\n",
        "# convert protein sequences to one-hot encoding\n",
        "protein_seqs = protein_data[\"Sequence\"].tolist()\n",
        "one_hot = one_hot_encoding(protein_seqs)\n",
        "\n",
        "# pad sequences to same length\n",
        "padded_seqs = pad_sequences(one_hot, padding='post', maxlen=1000) #set maxlen value as per the longest lenght of protein sequence in your data\n",
        "\n",
        "Fingerprint = protein_data.iloc[:,7:888]\n",
        "\n",
        "X = padded_seqs\n",
        "Y = Fingerprint\n",
        "output_nodes = Y.shape[1]"
      ]
    },
    {
      "cell_type": "code",
      "execution_count": null,
      "metadata": {
        "id": "qpI8m8AWI2kB"
      },
      "outputs": [],
      "source": [
        "\n",
        "\n",
        "#SPLIT DATA\n",
        "\n",
        "from sklearn import preprocessing\n",
        "from sklearn.model_selection import train_test_split\n",
        "X_train, X_val_and_test, Y_train, Y_val_and_test = train_test_split(X, Y, test_size=0.3,random_state = 42 )\n",
        "X_val, X_test, Y_val, Y_test = train_test_split(X_val_and_test, Y_val_and_test, test_size=0.5, random_state= 42)\n",
        "\n",
        "# define CNN model\n",
        "model = Sequential()\n",
        "model.add(Conv1D(filters=32, kernel_size=3, activation='relu', input_shape=(1000, 25)))\n",
        "model.add(MaxPooling1D(pool_size=2))\n",
        "model.add(Conv1D(filters=64, kernel_size=3, activation='relu'))\n",
        "model.add(MaxPooling1D(pool_size=2))\n",
        "model.add(Conv1D(filters=128, kernel_size=3, activation='relu'))\n",
        "model.add(MaxPooling1D(pool_size=2))\n",
        "model.add(Flatten())\n",
        "model.add(Dense(units=128, activation='relu'))\n",
        "model.add(Dropout(0.2))\n",
        "model.add(Dense(units=output_nodes, activation='sigmoid'))\n",
        "\n",
        "import tensorflow as tf\n",
        "import datetime\n",
        "log_dir = \"logs/fit/\" + datetime.datetime.now().strftime(\"%Y%m%d-%H%M%S\")\n",
        "tensorboard_callback = tf.keras.callbacks.TensorBoard(log_dir=log_dir, histogram_freq=1)\n",
        "\n",
        "filepath = '/content/drive/MyDrive/Model_DE/DDModel.hdf5'\n",
        " \n",
        "checkpoint = [tf.keras.callbacks.ModelCheckpoint(filepath, monitor='val_accuracy', mode='max', save_best_only=True, Save_weights_only = False, verbose = 1), \n",
        "              tf.keras.callbacks.EarlyStopping(monitor='val_accuracy', patience=25, verbose =1), [tensorboard_callback]]\n",
        "\n",
        "\n",
        "model.compile(optimizer=tf.keras.optimizers.RMSprop(), loss=tf.keras.losses.BinaryCrossentropy(from_logits = False), metrics=['accuracy'])\n",
        "hist = model.fit(X_train, Y_train, epochs= 2000, callbacks=[checkpoint],validation_data=(X_val, Y_val), batch_size= 2000)\n"
      ]
    },
    {
      "cell_type": "code",
      "source": [
        "model.evaluate(X_test, Y_test)\n",
        "\n",
        "Y_train_predict = np.round(model.predict(X_train))\n",
        "Y_train_l = tf.argmax(Y_train, axis = 1)\n",
        "Y_train_predict_l = tf.argmax(Y_train_predict, axis =1)\n",
        "import sklearn.metrics as skm\n",
        "cm = skm.multilabel_confusion_matrix(Y_train_l, Y_train_predict_l)\n",
        "print(cm)\n",
        "print( skm.classification_report(Y_train_l, Y_train_predict_l))\n",
        " \n",
        "train_acc = max(hist.history['precision'])\n",
        "val_acc = max(hist.history['val_precision'])\n",
        "train_loss = min(hist.history['loss'])\n",
        "val_loss = min(hist.history['val_loss'])\n",
        "print('Training Precision is')\n",
        "print(train_acc)\n",
        "print('Validation Precision is')\n",
        "print(val_acc)\n",
        "print('Training loss is')\n",
        "print(train_loss)\n",
        "print('Validation loss is')\n",
        "print(val_loss)\n",
        " \n",
        "# Error Graph\n",
        "import matplotlib.pyplot as plt\n",
        "plt.plot(hist.history['loss'])\n",
        "plt.plot(hist.history['val_loss'])\n",
        "plt.title('Model loss')\n",
        "plt.ylabel('Loss')\n",
        "plt.xlabel('Epoch')\n",
        "plt.legend(['Train', 'Val'], loc='upper right')\n",
        "#plt.show()\n",
        "#plt.figure(figsize=(5,5), dpi=300)\n",
        "#plt.gcf()\n",
        "plt.savefig('Loss.svg', DPI = 3500, Transperent = True)\n",
        " \n",
        "plt.plot(hist.history['precision'])\n",
        "plt.plot(hist.history['val_precision'])\n",
        "plt.title('Model accuracy')\n",
        "plt.ylabel('Precision')\n",
        "plt.xlabel('Epoch')\n",
        "plt.legend(['Train', 'Val'], loc='lower right')\n",
        "#plt.show()\n",
        "#plt.figure(figsize=(5,5), dpi=300)\n",
        "#plt.gcf()\n",
        "plt.savefig('Precision.svg', DPI = 3500, Transperent = True)\n",
        "\n",
        "\n",
        "plt.scatter(Y_train,model.predict(X_train), label = 'Train', c='blue')\n",
        "plt.title('Neural Network Predictor')\n",
        "plt.xlabel('Actual Interaction')\n",
        "plt.ylabel('Predicted Interaction')\n",
        "plt.scatter(y_test,model.predict(X_test),c='lightgreen', label='Test', alpha = 0.8)\n",
        "plt.legend(loc=4)\n",
        "#plt.show()\n",
        "plt.savefig('Act_vs_Pred.svg', DPI = 3500, Transperent = True)"
      ],
      "metadata": {
        "id": "ieRlHhOwJVWo"
      },
      "execution_count": null,
      "outputs": []
    },
    {
      "cell_type": "code",
      "execution_count": null,
      "metadata": {
        "id": "TgFFXXkqJ4_5"
      },
      "outputs": [],
      "source": [
        "# train the model\n",
        "model.fit(padded_seqs, Fingerprint, epochs=10, batch_size=64, validation_split=0.2)\n"
      ]
    }
  ],
  "metadata": {
    "colab": {
      "provenance": [],
      "authorship_tag": "ABX9TyPFn08lEfkutkUGFaF+NhTo",
      "include_colab_link": true
    },
    "kernelspec": {
      "display_name": "Python 3",
      "name": "python3"
    },
    "language_info": {
      "name": "python"
    }
  },
  "nbformat": 4,
  "nbformat_minor": 0
}