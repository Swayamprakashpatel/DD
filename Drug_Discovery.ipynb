{
  "nbformat": 4,
  "nbformat_minor": 0,
  "metadata": {
    "colab": {
      "provenance": []
    },
    "kernelspec": {
      "name": "python3",
      "display_name": "Python 3"
    },
    "language_info": {
      "name": "python"
    }
  },
  "cells": [
    {
      "cell_type": "code",
      "execution_count": 1,
      "metadata": {
        "id": "HZfJ5R777GJh"
      },
      "outputs": [],
      "source": [
        "import numpy as np\n",
        "import pandas as pd\n",
        "import tensorflow as tf\n",
        "from tensorflow.keras.preprocessing.sequence import pad_sequences\n",
        "from tensorflow.keras.layers import Conv1D, MaxPooling1D, Flatten, Dense, Dropout\n",
        "from tensorflow.keras.models import Sequential\n"
      ]
    },
    {
      "cell_type": "code",
      "source": [
        "def one_hot_encoding(protein_seq):\n",
        "    amino_acids = 'ACDEFGHIKLMNPQRSTVWY'\n",
        "    aa_dict = {amino_acids[i]: i for i in range(len(amino_acids))}\n",
        "    num_aa = len(aa_dict)\n",
        "\n",
        "    max_seq_len = max(len(seq) for seq in protein_seq)\n",
        "    one_hot = np.zeros((len(protein_seq), max_seq_len, num_aa))\n",
        "\n",
        "    for i, seq in enumerate(protein_seq):\n",
        "        for j, aa in enumerate(seq):\n",
        "            one_hot[i, j, aa_dict[aa]] = 1\n",
        "\n",
        "    return one_hot\n",
        "#3D array of one-hot encoding\n",
        "#len(prtein_seq) = number of sequences in data\n",
        "#max_seq_len = maximum length of sequence\n",
        "#num_aa = actual one-hot or number of aminoacid"
      ],
      "metadata": {
        "id": "8uCVv0FMVp4j"
      },
      "execution_count": 2,
      "outputs": []
    },
    {
      "cell_type": "code",
      "source": [
        "# load protein sequence data\n",
        "protein_data = pd.read_excel(\"/content/Trial_Dataset.xlsx\") #Data in excel/csv. two columns \"sequence\" and \"label\" \n",
        "\n",
        "# convert protein sequences to one-hot encoding\n",
        "protein_seqs = protein_data[\"Sequence\"].tolist()\n",
        "one_hot = one_hot_encoding(protein_seqs)\n",
        "\n",
        "# pad sequences to same length\n",
        "padded_seqs = pad_sequences(one_hot, padding='post', maxlen=1000) #set maxlen value as per the longest lenght of protein sequence in your data\n",
        "\n",
        "Fingerprint = protein_data.iloc[:,7:888]"
      ],
      "metadata": {
        "id": "h25W00z57UwN"
      },
      "execution_count": 14,
      "outputs": []
    },
    {
      "cell_type": "code",
      "source": [
        "print(padded_seqs.shape)"
      ],
      "metadata": {
        "colab": {
          "base_uri": "https://localhost:8080/"
        },
        "id": "BQTT8h29_I88",
        "outputId": "e981f182-11a1-4ef2-abd4-3de76fb8af5f"
      },
      "execution_count": 15,
      "outputs": [
        {
          "output_type": "stream",
          "name": "stdout",
          "text": [
            "(8, 1000, 20)\n"
          ]
        }
      ]
    },
    {
      "cell_type": "code",
      "source": [
        "print(padded_seqs)"
      ],
      "metadata": {
        "id": "LDNnlg14AF2G"
      },
      "execution_count": null,
      "outputs": []
    },
    {
      "cell_type": "code",
      "source": [
        "# define CNN model\n",
        "model = Sequential()\n",
        "model.add(Conv1D(filters=32, kernel_size=3, activation='relu', input_shape=(1000, 20)))\n",
        "model.add(MaxPooling1D(pool_size=2))\n",
        "model.add(Conv1D(filters=64, kernel_size=3, activation='relu'))\n",
        "model.add(MaxPooling1D(pool_size=2))\n",
        "model.add(Conv1D(filters=128, kernel_size=3, activation='relu'))\n",
        "model.add(MaxPooling1D(pool_size=2))\n",
        "model.add(Flatten())\n",
        "model.add(Dense(units=128, activation='relu'))\n",
        "model.add(Dropout(0.2))\n",
        "model.add(Dense(units=881, activation='sigmoid'))\n",
        "\n",
        "# compile the model\n",
        "model.compile(optimizer='adam', loss='binary_crossentropy', metrics=['accuracy'])\n"
      ],
      "metadata": {
        "id": "qpI8m8AWI2kB"
      },
      "execution_count": 20,
      "outputs": []
    },
    {
      "cell_type": "code",
      "source": [
        "# train the model\n",
        "model.fit(padded_seqs, Fingerprint, epochs=1000, batch_size=64, validation_split=0.2)\n"
      ],
      "metadata": {
        "id": "TgFFXXkqJ4_5"
      },
      "execution_count": null,
      "outputs": []
    }
  ]
}