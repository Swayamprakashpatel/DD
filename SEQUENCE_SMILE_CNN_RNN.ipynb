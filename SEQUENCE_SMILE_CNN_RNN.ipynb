{
  "nbformat": 4,
  "nbformat_minor": 0,
  "metadata": {
    "colab": {
      "provenance": [],
      "authorship_tag": "ABX9TyNQpSzzXowQRSp56T0/Eiow",
      "include_colab_link": true
    },
    "kernelspec": {
      "name": "python3",
      "display_name": "Python 3"
    },
    "language_info": {
      "name": "python"
    }
  },
  "cells": [
    {
      "cell_type": "markdown",
      "metadata": {
        "id": "view-in-github",
        "colab_type": "text"
      },
      "source": [
        "<a href=\"https://colab.research.google.com/github/Swayamprakashpatel/DD/blob/main/SEQUENCE_SMILE_CNN_RNN.ipynb\" target=\"_parent\"><img src=\"https://colab.research.google.com/assets/colab-badge.svg\" alt=\"Open In Colab\"/></a>"
      ]
    },
    {
      "cell_type": "markdown",
      "source": [
        "**CNN-RNN approach**"
      ],
      "metadata": {
        "id": "EwtIq7VzYgsr"
      }
    },
    {
      "cell_type": "code",
      "execution_count": null,
      "metadata": {
        "id": "fcrGJ18jXJRc"
      },
      "outputs": [],
      "source": [
        "import numpy as np\n",
        "import pandas as pd\n",
        "import tensorflow as tf\n",
        "from sklearn.model_selection import train_test_split\n",
        "from tensorflow.keras.layers import Input, Embedding, Conv1D, MaxPooling1D, LSTM, Dense, Concatenate, GlobalMaxPooling1D\n",
        "from tensorflow.keras.models import Model\n",
        "from tensorflow.keras.preprocessing.sequence import pad_sequences\n",
        "from tensorflow.keras.preprocessing.text import Tokenizer\n",
        "from tensorflow.keras.utils import to_categorical\n",
        "\n",
        "# Load the dataset from a CSV file\n",
        "data = pd.read_csv('your_dataset.csv')\n",
        "\n",
        "# Split the dataset into input (protein sequence) and output (drug SMILE) columns\n",
        "X = data['Protein Sequence']\n",
        "y = data['Drug SMILE']\n",
        "\n",
        "# Split the data into training and testing sets\n",
        "X_train, X_test, y_train, y_test = train_test_split(X, y, test_size=0.2, random_state=42)\n",
        "\n",
        "# Tokenize protein sequences\n",
        "tokenizer = Tokenizer(char_level=True)\n",
        "tokenizer.fit_on_texts(X_train)\n",
        "\n",
        "# Convert protein sequences to sequences of integers\n",
        "X_train_sequences = tokenizer.texts_to_sequences(X_train)\n",
        "X_test_sequences = tokenizer.texts_to_sequences(X_test)\n",
        "\n",
        "# Pad sequences to have the same length\n",
        "max_sequence_length = max(max(len(seq) for seq in X_train_sequences), max(len(seq) for seq in X_test_sequences))\n",
        "X_train_padded = pad_sequences(X_train_sequences, maxlen=max_sequence_length)\n",
        "X_test_padded = pad_sequences(X_test_sequences, maxlen=max_sequence_length)\n",
        "\n",
        "# Convert drug SMILE strings to categorical labels\n",
        "label_encoder = LabelEncoder()\n",
        "y_train_encoded = label_encoder.fit_transform(y_train)\n",
        "y_test_encoded = label_encoder.transform(y_test)\n",
        "num_classes = len(label_encoder.classes_)\n",
        "y_train_categorical = to_categorical(y_train_encoded, num_classes=num_classes)\n",
        "y_test_categorical = to_categorical(y_test_encoded, num_classes=num_classes)\n",
        "\n",
        "# Define the model architecture\n",
        "input_shape = (max_sequence_length,)\n",
        "num_filters = 128\n",
        "filter_sizes = [3, 4, 5]\n",
        "embedding_dim = 128\n",
        "hidden_units = 64\n",
        "\n",
        "input_layer = Input(shape=input_shape)\n",
        "embedding_layer = Embedding(len(tokenizer.word_index) + 1, embedding_dim)(input_layer)\n",
        "conv_layers = []\n",
        "for filter_size in filter_sizes:\n",
        "    conv_layer = Conv1D(num_filters, filter_size, activation='relu')(embedding_layer)\n",
        "    pooled_layer = MaxPooling1D()(conv_layer)\n",
        "    conv_layers.append(pooled_layer)\n",
        "\n",
        "concat_layer = Concatenate()(conv_layers) if len(conv_layers) > 1 else conv_layers[0]\n",
        "lstm_layer = LSTM(hidden_units)(concat_layer)\n",
        "output_layer = Dense(num_classes, activation='softmax')(lstm_layer)\n",
        "\n",
        "model = Model(input_layer, output_layer)\n",
        "\n",
        "# Compile the model\n",
        "model.compile(optimizer='adam', loss='categorical_crossentropy', metrics=['accuracy'])\n",
        "\n",
        "# Train the model\n",
        "model.fit(X_train_padded, y_train_categorical, epochs=10, batch_size=32, validation_data=(X_test_padded, y_test_categorical))\n"
      ]
    }
  ]
}