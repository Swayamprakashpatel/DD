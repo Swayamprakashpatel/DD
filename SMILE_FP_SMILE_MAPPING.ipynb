{
  "nbformat": 4,
  "nbformat_minor": 0,
  "metadata": {
    "colab": {
      "provenance": [],
      "authorship_tag": "ABX9TyP9gmOGdmj1fAL9+VylWzFJ",
      "include_colab_link": true
    },
    "kernelspec": {
      "name": "python3",
      "display_name": "Python 3"
    },
    "language_info": {
      "name": "python"
    }
  },
  "cells": [
    {
      "cell_type": "markdown",
      "metadata": {
        "id": "view-in-github",
        "colab_type": "text"
      },
      "source": [
        "<a href=\"https://colab.research.google.com/github/Swayamprakashpatel/DD/blob/main/SMILE_FP_SMILE_MAPPING.ipynb\" target=\"_parent\"><img src=\"https://colab.research.google.com/assets/colab-badge.svg\" alt=\"Open In Colab\"/></a>"
      ]
    },
    {
      "cell_type": "code",
      "source": [
        "# Install RDKit in Google Colab\n",
        "!pip install -q rdkit-pypi\n",
        "\n",
        "# Import necessary libraries\n",
        "from rdkit import Chem\n",
        "from rdkit.Chem import AllChem\n",
        "\n",
        "# Define a list of SMILES strings\n",
        "smiles_list = [\"CCC\", \"CCN\", \"C=O\"]\n",
        "\n",
        "# Generate Morgan fingerprints for compounds\n",
        "def generate_fingerprint(smiles):\n",
        "    mol = Chem.MolFromSmiles(smiles)\n",
        "    fingerprint = AllChem.GetMorganFingerprintAsBitVect(mol, 2, nBits=1024)\n",
        "    return fingerprint\n",
        "\n",
        "# Collect fingerprint data and build a mapping\n",
        "fingerprint_smiles_mapping = {}\n",
        "for smiles in smiles_list:\n",
        "    fingerprint = generate_fingerprint(smiles)\n",
        "    fingerprint_str = fingerprint.ToBitString()\n",
        "    fingerprint_smiles_mapping[fingerprint_str] = smiles\n",
        "\n",
        "# Example: Retrieve SMILES from a generated fingerprint\n",
        "example_fingerprint = generate_fingerprint(\"CCC\")  # Example fingerprint\n",
        "example_fingerprint_str = example_fingerprint.ToBitString()\n",
        "retrieved_smiles = fingerprint_smiles_mapping.get(example_fingerprint_str, \"Not found\")\n",
        "\n",
        "print(f\"Retrieved SMILES: {retrieved_smiles}\")\n"
      ],
      "metadata": {
        "id": "NXSWEL_CdGGY",
        "outputId": "61d53594-ecef-402c-acad-62b8acdbc7aa",
        "colab": {
          "base_uri": "https://localhost:8080/"
        }
      },
      "execution_count": null,
      "outputs": [
        {
          "output_type": "stream",
          "name": "stdout",
          "text": [
            "Retrieved SMILES: CCC\n"
          ]
        }
      ]
    }
  ]
}