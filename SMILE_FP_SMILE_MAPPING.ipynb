{
  "nbformat": 4,
  "nbformat_minor": 0,
  "metadata": {
    "colab": {
      "provenance": [],
      "authorship_tag": "ABX9TyM72x+t6zux78PIqS4AFYk4",
      "include_colab_link": true
    },
    "kernelspec": {
      "name": "python3",
      "display_name": "Python 3"
    },
    "language_info": {
      "name": "python"
    }
  },
  "cells": [
    {
      "cell_type": "markdown",
      "metadata": {
        "id": "view-in-github",
        "colab_type": "text"
      },
      "source": [
        "<a href=\"https://colab.research.google.com/github/Swayamprakashpatel/DD/blob/main/SMILE_FP_SMILE_MAPPING.ipynb\" target=\"_parent\"><img src=\"https://colab.research.google.com/assets/colab-badge.svg\" alt=\"Open In Colab\"/></a>"
      ]
    },
    {
      "cell_type": "code",
      "source": [
        "# Install RDKit in Google Colab\n",
        "!pip install -q rdkit-pypi\n",
        "\n",
        "# Import necessary libraries\n",
        "from rdkit import Chem\n",
        "from rdkit.Chem import AllChem\n",
        "\n",
        "# Define a list of SMILES strings\n",
        "smiles_list = [\"CCC\", \"CCN\", \"C=O\"]\n",
        "\n",
        "# Generate Morgan fingerprints for compounds\n",
        "def generate_fingerprint(smiles):\n",
        "    mol = Chem.MolFromSmiles(smiles)\n",
        "    fingerprint = AllChem.GetMorganFingerprintAsBitVect(mol, 2, nBits=1024)\n",
        "    return fingerprint\n",
        "\n",
        "# Collect fingerprint data and build a mapping\n",
        "fingerprint_smiles_mapping = {}\n",
        "for smiles in smiles_list:\n",
        "    fingerprint = generate_fingerprint(smiles)\n",
        "    fingerprint_str = fingerprint.ToBitString()\n",
        "    fingerprint_smiles_mapping[fingerprint_str] = smiles\n",
        "\n",
        "# Example: Retrieve SMILES from a generated fingerprint\n",
        "example_fingerprint = generate_fingerprint(\"CCC\")  # Example fingerprint\n",
        "example_fingerprint_str = example_fingerprint.ToBitString()\n",
        "retrieved_smiles = fingerprint_smiles_mapping.get(example_fingerprint_str, \"Not found\")\n",
        "\n",
        "print(f\"Retrieved SMILES: {retrieved_smiles}\")\n"
      ],
      "metadata": {
        "id": "NXSWEL_CdGGY",
        "outputId": "61d53594-ecef-402c-acad-62b8acdbc7aa",
        "colab": {
          "base_uri": "https://localhost:8080/"
        }
      },
      "execution_count": null,
      "outputs": [
        {
          "output_type": "stream",
          "name": "stdout",
          "text": [
            "Retrieved SMILES: CCC\n"
          ]
        }
      ]
    },
    {
      "cell_type": "code",
      "source": [
        "# Install RDKit in Google Colab\n",
        "!pip install -q rdkit-pypi\n",
        "\n",
        "# Import necessary libraries\n",
        "from rdkit import Chem\n",
        "from rdkit.Chem import AllChem\n",
        "import pandas as pd\n",
        "\n",
        "# Load the CSV file\n",
        "csv_file_path = '/content/Data_trial.csv'  # Update with the actual path to your CSV file\n",
        "data = pd.read_csv(csv_file_path)\n",
        "\n",
        "# Extract SMILES and fingerprint columns\n",
        "smiles_column = data.columns[5:6]  # Update with the actual column name for SMILES\n",
        "fingerprint_columns = data.columns[7:]  # Assuming fingerprint columns start from the second column\n",
        "\n",
        "# Generate Morgan fingerprints for compounds\n",
        "def generate_fingerprint(smiles):\n",
        "    mol = Chem.MolFromSmiles(smiles)\n",
        "    fingerprint = AllChem.GetMorganFingerprintAsBitVect(mol, 2, nBits=1024)\n",
        "    return fingerprint\n",
        "\n",
        "# Collect fingerprint data and build a mapping\n",
        "fingerprint_smiles_mapping = {}\n",
        "for index, row in data.iterrows():\n",
        "    smiles = row[smiles_column]\n",
        "    fingerprints = row[fingerprint_columns].astype(str).tolist()\n",
        "    fingerprint_str = ''.join(fingerprints)\n",
        "    fingerprint_smiles_mapping[fingerprint_str] = smiles\n",
        "\n",
        "# Example: Retrieve SMILES from a generated fingerprint\n",
        "example_row = data.iloc[5]  # Example row\n",
        "example_smiles = example_row[smiles_column]\n",
        "example_fingerprints = example_row[fingerprint_columns].astype(str).tolist()\n",
        "example_fingerprint_str = ''.join(example_fingerprints)\n",
        "retrieved_smiles = fingerprint_smiles_mapping.get(example_fingerprint_str, \"Not found\")\n",
        "\n",
        "print(f\"Retrieved SMILES: {retrieved_smiles}\")\n"
      ],
      "metadata": {
        "id": "-yEJaSYUEcZg",
        "outputId": "65fe90c6-f77d-4560-ca74-f6f988f1d0ec",
        "colab": {
          "base_uri": "https://localhost:8080/"
        }
      },
      "execution_count": 5,
      "outputs": [
        {
          "output_type": "stream",
          "name": "stdout",
          "text": [
            "Retrieved SMILES: SMILE    CN1CCN(CC1)CC(=O)N(C)C2=CC=C(C=C2)N=C(C3=CC=CC...\n",
            "Name: 0, dtype: object\n"
          ]
        }
      ]
    },
    {
      "cell_type": "code",
      "source": [
        "example_row = data.iloc[5]  # Example row\n",
        "example_smiles = example_row[smiles_column]\n",
        "example_fingerprints = example_row[fingerprint_columns].astype(str).tolist()\n",
        "example_fingerprint_str = ''.join(example_fingerprints)\n",
        "retrieved_smiles = fingerprint_smiles_mapping.get(example_fingerprint_str, \"Not found\")\n",
        "\n",
        "print(f\"Retrieved SMILES: {retrieved_smiles}\")"
      ],
      "metadata": {
        "id": "ARF_ODdfFjlx",
        "outputId": "64ae7df0-fe17-45d5-dda1-83ace0984b39",
        "colab": {
          "base_uri": "https://localhost:8080/"
        }
      },
      "execution_count": 6,
      "outputs": [
        {
          "output_type": "stream",
          "name": "stdout",
          "text": [
            "Retrieved SMILES: SMILE    CNC(=O)C1=CC=CC2=C1C=CC(=C2)OC3=C4C=C(C(=CC4=N...\n",
            "Name: 5, dtype: object\n"
          ]
        }
      ]
    },
    {
      "cell_type": "code",
      "source": [],
      "metadata": {
        "id": "VQxXOmOQFlK3"
      },
      "execution_count": null,
      "outputs": []
    }
  ]
}