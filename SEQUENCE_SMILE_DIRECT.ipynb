{
  "nbformat": 4,
  "nbformat_minor": 0,
  "metadata": {
    "colab": {
      "provenance": [],
      "authorship_tag": "ABX9TyMjrX0lX7IqrDgwq/SyhswZ",
      "include_colab_link": true
    },
    "kernelspec": {
      "name": "python3",
      "display_name": "Python 3"
    },
    "language_info": {
      "name": "python"
    }
  },
  "cells": [
    {
      "cell_type": "markdown",
      "metadata": {
        "id": "view-in-github",
        "colab_type": "text"
      },
      "source": [
        "<a href=\"https://colab.research.google.com/github/Swayamprakashpatel/DD/blob/main/SEQUENCE_SMILE_DIRECT.ipynb\" target=\"_parent\"><img src=\"https://colab.research.google.com/assets/colab-badge.svg\" alt=\"Open In Colab\"/></a>"
      ]
    },
    {
      "cell_type": "markdown",
      "source": [
        "**Proteing Sequence to Drug SMILE Direct ML/DL Approach**"
      ],
      "metadata": {
        "id": "MgAuO1acU8l4"
      }
    },
    {
      "cell_type": "code",
      "execution_count": null,
      "metadata": {
        "id": "fYQ7fZEGU7g6"
      },
      "outputs": [],
      "source": [
        "import numpy as np\n",
        "import pandas as pd\n",
        "import tensorflow as tf\n",
        "from sklearn.model_selection import train_test_split\n",
        "from gensim.models import Word2Vec\n",
        "from sklearn.preprocessing import LabelEncoder\n",
        "\n",
        "# Load the dataset from a CSV file\n",
        "data = pd.read_csv('your_dataset.csv')\n",
        "\n",
        "# Split the dataset into input (protein sequence) and output (drug SMILE) columns\n",
        "X = data['Protein Sequence']\n",
        "y = data['Drug SMILE']\n",
        "\n",
        "# Split the data into training and testing sets\n",
        "X_train, X_test, y_train, y_test = train_test_split(X, y, test_size=0.2, random_state=42)\n",
        "\n",
        "# Tokenize protein sequences into individual amino acids\n",
        "X_train_tokens = [seq.split() for seq in X_train]\n",
        "X_test_tokens = [seq.split() for seq in X_test]\n",
        "\n",
        "# Train Word2Vec model to learn embeddings\n",
        "embedding_dim = 100\n",
        "word2vec_model = Word2Vec(sentences=X_train_tokens, size=embedding_dim, window=5, min_count=1, workers=4)\n",
        "\n",
        "# Convert protein sequences to embeddings\n",
        "X_train_embeddings = np.array([np.mean([word2vec_model.wv[amino_acid] for amino_acid in seq if amino_acid in word2vec_model.wv] or [np.zeros(embedding_dim)], axis=0) for seq in X_train_tokens])\n",
        "X_test_embeddings = np.array([np.mean([word2vec_model.wv[amino_acid] for amino_acid in seq if amino_acid in word2vec_model.wv] or [np.zeros(embedding_dim)], axis=0) for seq in X_test_tokens])\n",
        "\n",
        "# Preprocess the output variable\n",
        "label_encoder = LabelEncoder()\n",
        "y_train_encoded = label_encoder.fit_transform(y_train)\n",
        "y_test_encoded = label_encoder.transform(y_test)\n",
        "\n",
        "# Define the model architecture\n",
        "model = tf.keras.Sequential([\n",
        "    tf.keras.layers.Dense(64, activation='relu', input_dim=embedding_dim),\n",
        "    tf.keras.layers.Dense(len(label_encoder.classes_), activation='softmax')\n",
        "])\n",
        "\n",
        "# Compile the model\n",
        "model.compile(optimizer='adam', loss='sparse_categorical_crossentropy', metrics=['accuracy'])\n",
        "\n",
        "# Train the model\n",
        "model.fit(X_train_embeddings, y_train_encoded, epochs=10, batch_size=32, validation_data=(X_test_embeddings, y_test_encoded))\n"
      ]
    }
  ]
}