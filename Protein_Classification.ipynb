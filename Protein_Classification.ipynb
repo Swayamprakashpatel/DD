{
  "nbformat": 4,
  "nbformat_minor": 0,
  "metadata": {
    "colab": {
      "provenance": []
    },
    "kernelspec": {
      "name": "python3",
      "display_name": "Python 3"
    },
    "language_info": {
      "name": "python"
    }
  },
  "cells": [
    {
      "cell_type": "code",
      "execution_count": null,
      "metadata": {
        "id": "HZfJ5R777GJh"
      },
      "outputs": [],
      "source": [
        "import numpy as np\n",
        "import pandas as pd\n",
        "import tensorflow as tf\n",
        "from tensorflow.keras.preprocessing.sequence import pad_sequences\n",
        "from tensorflow.keras.layers import Conv1D, MaxPooling1D, Flatten, Dense, Dropout\n",
        "from tensorflow.keras.models import Sequential\n"
      ]
    },
    {
      "cell_type": "code",
      "source": [
        "def one_hot_encoding(protein_seq):\n",
        "    amino_acids = 'ACDEFGHIKLMNPQRSTVWY'\n",
        "    aa_dict = {amino_acids[i]: i for i in range(len(amino_acids))}\n",
        "    num_aa = len(aa_dict)\n",
        "\n",
        "    max_seq_len = max(len(seq) for seq in protein_seq)\n",
        "    one_hot = np.zeros((len(protein_seq), max_seq_len, num_aa))\n",
        "\n",
        "    for i, seq in enumerate(protein_seq):\n",
        "        for j, aa in enumerate(seq):\n",
        "            one_hot[i, j, aa_dict[aa]] = 1\n",
        "\n",
        "    return one_hot\n",
        "#3D array of one-hot encoding\n",
        "#len(prtein_seq) = number of sequences in data\n",
        "#max_seq_len = maximum length of sequence\n",
        "#num_aa = actual one-hot or number of aminoacid"
      ],
      "metadata": {
        "id": "8uCVv0FMVp4j"
      },
      "execution_count": null,
      "outputs": []
    },
    {
      "cell_type": "code",
      "source": [
        "# load protein sequence data\n",
        "protein_data = pd.read_csv(\"/content/Protein.csv\") #Data in excel/csv. two columns \"sequence\" and \"label\" \n",
        "\n",
        "# convert protein sequences to one-hot encoding\n",
        "protein_seqs = protein_data[\"sequence\"].tolist()\n",
        "one_hot = one_hot_encoding(protein_seqs)\n",
        "\n",
        "# pad sequences to same length\n",
        "padded_seqs = pad_sequences(one_hot, padding='post', maxlen=1000) #set maxlen value as per the longest lenght of protein sequence in your data\n"
      ],
      "metadata": {
        "id": "h25W00z57UwN"
      },
      "execution_count": null,
      "outputs": []
    },
    {
      "cell_type": "code",
      "source": [
        "print(padded_seqs.shape)"
      ],
      "metadata": {
        "colab": {
          "base_uri": "https://localhost:8080/"
        },
        "id": "BQTT8h29_I88",
        "outputId": "be51a88d-803a-4da5-ef4a-4eb7aaa0a0d1"
      },
      "execution_count": null,
      "outputs": [
        {
          "output_type": "stream",
          "name": "stdout",
          "text": [
            "(8, 1000, 20)\n"
          ]
        }
      ]
    },
    {
      "cell_type": "code",
      "source": [
        "print(padded_seqs)"
      ],
      "metadata": {
        "colab": {
          "base_uri": "https://localhost:8080/"
        },
        "id": "LDNnlg14AF2G",
        "outputId": "b7104cfe-5072-4dc2-bc52-de181f173182"
      },
      "execution_count": null,
      "outputs": [
        {
          "output_type": "stream",
          "name": "stdout",
          "text": [
            "[[[0 0 0 ... 0 0 0]\n",
            "  [0 0 0 ... 0 0 0]\n",
            "  [0 0 0 ... 0 0 0]\n",
            "  ...\n",
            "  [0 0 0 ... 0 0 0]\n",
            "  [0 0 0 ... 0 0 0]\n",
            "  [0 0 0 ... 0 0 0]]\n",
            "\n",
            " [[0 0 0 ... 0 0 0]\n",
            "  [0 0 0 ... 0 0 0]\n",
            "  [0 0 0 ... 0 0 0]\n",
            "  ...\n",
            "  [0 0 0 ... 0 0 0]\n",
            "  [0 0 0 ... 0 0 0]\n",
            "  [0 0 0 ... 0 0 0]]\n",
            "\n",
            " [[0 0 0 ... 0 0 0]\n",
            "  [1 0 0 ... 0 0 0]\n",
            "  [0 0 0 ... 0 0 0]\n",
            "  ...\n",
            "  [0 0 0 ... 0 0 0]\n",
            "  [0 0 0 ... 0 0 0]\n",
            "  [0 0 0 ... 0 0 0]]\n",
            "\n",
            " ...\n",
            "\n",
            " [[0 0 0 ... 0 0 0]\n",
            "  [0 0 0 ... 1 0 0]\n",
            "  [0 1 0 ... 0 0 0]\n",
            "  ...\n",
            "  [0 0 0 ... 0 0 0]\n",
            "  [0 0 0 ... 0 0 0]\n",
            "  [0 0 0 ... 0 0 0]]\n",
            "\n",
            " [[0 0 0 ... 0 0 0]\n",
            "  [1 0 0 ... 0 0 0]\n",
            "  [0 0 0 ... 1 0 0]\n",
            "  ...\n",
            "  [0 0 0 ... 0 0 0]\n",
            "  [0 0 0 ... 0 0 0]\n",
            "  [0 0 0 ... 0 0 0]]\n",
            "\n",
            " [[0 0 0 ... 0 0 0]\n",
            "  [0 0 0 ... 0 0 0]\n",
            "  [0 0 0 ... 0 0 0]\n",
            "  ...\n",
            "  [0 0 0 ... 0 0 0]\n",
            "  [0 0 0 ... 0 0 0]\n",
            "  [0 0 0 ... 0 0 0]]]\n"
          ]
        }
      ]
    },
    {
      "cell_type": "code",
      "source": [
        "# define CNN model\n",
        "model = Sequential()\n",
        "model.add(Conv1D(filters=32, kernel_size=3, activation='relu', input_shape=(1000, 20)))\n",
        "model.add(MaxPooling1D(pool_size=2))\n",
        "model.add(Conv1D(filters=64, kernel_size=3, activation='relu'))\n",
        "model.add(MaxPooling1D(pool_size=2))\n",
        "model.add(Conv1D(filters=128, kernel_size=3, activation='relu'))\n",
        "model.add(MaxPooling1D(pool_size=2))\n",
        "model.add(Flatten())\n",
        "model.add(Dense(units=128, activation='relu'))\n",
        "model.add(Dropout(0.2))\n",
        "model.add(Dense(units=1, activation='sigmoid'))\n",
        "\n",
        "# compile the model\n",
        "model.compile(optimizer='adam', loss='binary_crossentropy', metrics=['accuracy'])\n"
      ],
      "metadata": {
        "id": "qpI8m8AWI2kB"
      },
      "execution_count": null,
      "outputs": []
    },
    {
      "cell_type": "code",
      "source": [
        "# train the model\n",
        "model.fit(padded_seqs, protein_data[\"label\"], epochs=10, batch_size=64, validation_split=0.2)\n"
      ],
      "metadata": {
        "colab": {
          "base_uri": "https://localhost:8080/"
        },
        "id": "TgFFXXkqJ4_5",
        "outputId": "2bab4a0f-867f-46ec-fff0-0d50db645782"
      },
      "execution_count": null,
      "outputs": [
        {
          "output_type": "stream",
          "name": "stdout",
          "text": [
            "Epoch 1/10\n",
            "1/1 [==============================] - 2s 2s/step - loss: 0.7052 - accuracy: 0.3333 - val_loss: 0.3378 - val_accuracy: 0.0000e+00\n",
            "Epoch 2/10\n",
            "1/1 [==============================] - 0s 123ms/step - loss: 0.4629 - accuracy: 0.5000 - val_loss: -0.1192 - val_accuracy: 0.0000e+00\n",
            "Epoch 3/10\n",
            "1/1 [==============================] - 0s 93ms/step - loss: 0.2081 - accuracy: 0.5000 - val_loss: -0.8329 - val_accuracy: 0.0000e+00\n",
            "Epoch 4/10\n",
            "1/1 [==============================] - 0s 122ms/step - loss: -0.2457 - accuracy: 0.5000 - val_loss: -1.9086 - val_accuracy: 0.0000e+00\n",
            "Epoch 5/10\n",
            "1/1 [==============================] - 0s 106ms/step - loss: -0.8133 - accuracy: 0.5000 - val_loss: -3.4317 - val_accuracy: 0.0000e+00\n",
            "Epoch 6/10\n",
            "1/1 [==============================] - 0s 103ms/step - loss: -1.5280 - accuracy: 0.5000 - val_loss: -5.5400 - val_accuracy: 0.0000e+00\n",
            "Epoch 7/10\n",
            "1/1 [==============================] - 0s 127ms/step - loss: -2.4366 - accuracy: 0.5000 - val_loss: -8.4518 - val_accuracy: 0.0000e+00\n",
            "Epoch 8/10\n",
            "1/1 [==============================] - 0s 111ms/step - loss: -3.8537 - accuracy: 0.5000 - val_loss: -12.4400 - val_accuracy: 0.0000e+00\n",
            "Epoch 9/10\n",
            "1/1 [==============================] - 0s 97ms/step - loss: -6.6267 - accuracy: 0.5000 - val_loss: -17.7348 - val_accuracy: 0.0000e+00\n",
            "Epoch 10/10\n",
            "1/1 [==============================] - 0s 118ms/step - loss: -7.6611 - accuracy: 0.5000 - val_loss: -24.8353 - val_accuracy: 0.0000e+00\n"
          ]
        },
        {
          "output_type": "execute_result",
          "data": {
            "text/plain": [
              "<keras.callbacks.History at 0x7f5c28434910>"
            ]
          },
          "metadata": {},
          "execution_count": 101
        }
      ]
    }
  ]
}